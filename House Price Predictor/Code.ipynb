{
 "cells": [
  {
   "metadata": {
    "ExecuteTime": {
     "end_time": "2025-06-01T00:08:21.411455Z",
     "start_time": "2025-06-01T00:08:20.922727Z"
    }
   },
   "cell_type": "code",
   "source": [
    "from pandas import read_csv\n",
    "import numpy as np\n",
    "import pandas as pd\n",
    "from sklearn.model_selection import train_test_split,GridSearchCV\n",
    "from sklearn.linear_model import LinearRegression\n",
    "from sklearn.metrics import mean_squared_error, r2_score,mean_absolute_error\n",
    "from sklearn.feature_selection import VarianceThreshold\n",
    "from sklearn.ensemble import RandomForestRegressor"
   ],
   "id": "e659281c9c31f69d",
   "outputs": [],
   "execution_count": 1
  },
  {
   "metadata": {
    "ExecuteTime": {
     "end_time": "2025-06-01T00:08:21.471449Z",
     "start_time": "2025-06-01T00:08:21.427975Z"
    }
   },
   "cell_type": "code",
   "source": [
    "# load dataset, get dummies and drop ID column\n",
    "dataset = read_csv(\n",
    "    'C:/Users/Raeni/PycharmProjects/Spring2025/DSC630/Dataset/dataset.csv')\n",
    "dataset.isnull().sum()"
   ],
   "id": "67b0d01face8b7f0",
   "outputs": [
    {
     "data": {
      "text/plain": [
       "Id                 0\n",
       "MSSubClass         0\n",
       "MSZoning           0\n",
       "LotFrontage      259\n",
       "LotArea            0\n",
       "                ... \n",
       "MoSold             0\n",
       "YrSold             0\n",
       "SaleType           0\n",
       "SaleCondition      0\n",
       "SalePrice          0\n",
       "Length: 81, dtype: int64"
      ]
     },
     "execution_count": 2,
     "metadata": {},
     "output_type": "execute_result"
    }
   ],
   "execution_count": 2
  },
  {
   "metadata": {
    "ExecuteTime": {
     "end_time": "2025-06-01T00:08:21.834245Z",
     "start_time": "2025-06-01T00:08:21.794959Z"
    }
   },
   "cell_type": "code",
   "source": [
    "# load dataset, get dummies and drop ID column\n",
    "dataset = read_csv('C:/Users/Raeni/PycharmProjects/Spring2025/DSC630/Dataset/dataset.csv')\n",
    "dataset = pd.get_dummies(dataset,drop_first=True)\n",
    "dataset.drop(columns=['Id'], inplace=True)"
   ],
   "id": "9cef3033c23efdb8",
   "outputs": [],
   "execution_count": 3
  },
  {
   "metadata": {
    "ExecuteTime": {
     "end_time": "2025-06-01T00:08:22.113305Z",
     "start_time": "2025-06-01T00:08:22.101207Z"
    }
   },
   "cell_type": "code",
   "source": [
    "# check to see if the ID column got dropped\n",
    "dataset.head()"
   ],
   "id": "755cddd1a1bce406",
   "outputs": [
    {
     "data": {
      "text/plain": [
       "   MSSubClass  LotFrontage  LotArea  OverallQual  OverallCond  YearBuilt  \\\n",
       "0          60         65.0     8450            7            5       2003   \n",
       "1          20         80.0     9600            6            8       1976   \n",
       "2          60         68.0    11250            7            5       2001   \n",
       "3          70         60.0     9550            7            5       1915   \n",
       "4          60         84.0    14260            8            5       2000   \n",
       "\n",
       "   YearRemodAdd  MasVnrArea  BsmtFinSF1  BsmtFinSF2  ...  SaleType_ConLI  \\\n",
       "0          2003       196.0         706           0  ...               0   \n",
       "1          1976         0.0         978           0  ...               0   \n",
       "2          2002       162.0         486           0  ...               0   \n",
       "3          1970         0.0         216           0  ...               0   \n",
       "4          2000       350.0         655           0  ...               0   \n",
       "\n",
       "   SaleType_ConLw  SaleType_New  SaleType_Oth  SaleType_WD  \\\n",
       "0               0             0             0            1   \n",
       "1               0             0             0            1   \n",
       "2               0             0             0            1   \n",
       "3               0             0             0            1   \n",
       "4               0             0             0            1   \n",
       "\n",
       "   SaleCondition_AdjLand  SaleCondition_Alloca  SaleCondition_Family  \\\n",
       "0                      0                     0                     0   \n",
       "1                      0                     0                     0   \n",
       "2                      0                     0                     0   \n",
       "3                      0                     0                     0   \n",
       "4                      0                     0                     0   \n",
       "\n",
       "   SaleCondition_Normal  SaleCondition_Partial  \n",
       "0                     1                      0  \n",
       "1                     1                      0  \n",
       "2                     1                      0  \n",
       "3                     0                      0  \n",
       "4                     1                      0  \n",
       "\n",
       "[5 rows x 246 columns]"
      ],
      "text/html": [
       "<div>\n",
       "<style scoped>\n",
       "    .dataframe tbody tr th:only-of-type {\n",
       "        vertical-align: middle;\n",
       "    }\n",
       "\n",
       "    .dataframe tbody tr th {\n",
       "        vertical-align: top;\n",
       "    }\n",
       "\n",
       "    .dataframe thead th {\n",
       "        text-align: right;\n",
       "    }\n",
       "</style>\n",
       "<table border=\"1\" class=\"dataframe\">\n",
       "  <thead>\n",
       "    <tr style=\"text-align: right;\">\n",
       "      <th></th>\n",
       "      <th>MSSubClass</th>\n",
       "      <th>LotFrontage</th>\n",
       "      <th>LotArea</th>\n",
       "      <th>OverallQual</th>\n",
       "      <th>OverallCond</th>\n",
       "      <th>YearBuilt</th>\n",
       "      <th>YearRemodAdd</th>\n",
       "      <th>MasVnrArea</th>\n",
       "      <th>BsmtFinSF1</th>\n",
       "      <th>BsmtFinSF2</th>\n",
       "      <th>...</th>\n",
       "      <th>SaleType_ConLI</th>\n",
       "      <th>SaleType_ConLw</th>\n",
       "      <th>SaleType_New</th>\n",
       "      <th>SaleType_Oth</th>\n",
       "      <th>SaleType_WD</th>\n",
       "      <th>SaleCondition_AdjLand</th>\n",
       "      <th>SaleCondition_Alloca</th>\n",
       "      <th>SaleCondition_Family</th>\n",
       "      <th>SaleCondition_Normal</th>\n",
       "      <th>SaleCondition_Partial</th>\n",
       "    </tr>\n",
       "  </thead>\n",
       "  <tbody>\n",
       "    <tr>\n",
       "      <th>0</th>\n",
       "      <td>60</td>\n",
       "      <td>65.0</td>\n",
       "      <td>8450</td>\n",
       "      <td>7</td>\n",
       "      <td>5</td>\n",
       "      <td>2003</td>\n",
       "      <td>2003</td>\n",
       "      <td>196.0</td>\n",
       "      <td>706</td>\n",
       "      <td>0</td>\n",
       "      <td>...</td>\n",
       "      <td>0</td>\n",
       "      <td>0</td>\n",
       "      <td>0</td>\n",
       "      <td>0</td>\n",
       "      <td>1</td>\n",
       "      <td>0</td>\n",
       "      <td>0</td>\n",
       "      <td>0</td>\n",
       "      <td>1</td>\n",
       "      <td>0</td>\n",
       "    </tr>\n",
       "    <tr>\n",
       "      <th>1</th>\n",
       "      <td>20</td>\n",
       "      <td>80.0</td>\n",
       "      <td>9600</td>\n",
       "      <td>6</td>\n",
       "      <td>8</td>\n",
       "      <td>1976</td>\n",
       "      <td>1976</td>\n",
       "      <td>0.0</td>\n",
       "      <td>978</td>\n",
       "      <td>0</td>\n",
       "      <td>...</td>\n",
       "      <td>0</td>\n",
       "      <td>0</td>\n",
       "      <td>0</td>\n",
       "      <td>0</td>\n",
       "      <td>1</td>\n",
       "      <td>0</td>\n",
       "      <td>0</td>\n",
       "      <td>0</td>\n",
       "      <td>1</td>\n",
       "      <td>0</td>\n",
       "    </tr>\n",
       "    <tr>\n",
       "      <th>2</th>\n",
       "      <td>60</td>\n",
       "      <td>68.0</td>\n",
       "      <td>11250</td>\n",
       "      <td>7</td>\n",
       "      <td>5</td>\n",
       "      <td>2001</td>\n",
       "      <td>2002</td>\n",
       "      <td>162.0</td>\n",
       "      <td>486</td>\n",
       "      <td>0</td>\n",
       "      <td>...</td>\n",
       "      <td>0</td>\n",
       "      <td>0</td>\n",
       "      <td>0</td>\n",
       "      <td>0</td>\n",
       "      <td>1</td>\n",
       "      <td>0</td>\n",
       "      <td>0</td>\n",
       "      <td>0</td>\n",
       "      <td>1</td>\n",
       "      <td>0</td>\n",
       "    </tr>\n",
       "    <tr>\n",
       "      <th>3</th>\n",
       "      <td>70</td>\n",
       "      <td>60.0</td>\n",
       "      <td>9550</td>\n",
       "      <td>7</td>\n",
       "      <td>5</td>\n",
       "      <td>1915</td>\n",
       "      <td>1970</td>\n",
       "      <td>0.0</td>\n",
       "      <td>216</td>\n",
       "      <td>0</td>\n",
       "      <td>...</td>\n",
       "      <td>0</td>\n",
       "      <td>0</td>\n",
       "      <td>0</td>\n",
       "      <td>0</td>\n",
       "      <td>1</td>\n",
       "      <td>0</td>\n",
       "      <td>0</td>\n",
       "      <td>0</td>\n",
       "      <td>0</td>\n",
       "      <td>0</td>\n",
       "    </tr>\n",
       "    <tr>\n",
       "      <th>4</th>\n",
       "      <td>60</td>\n",
       "      <td>84.0</td>\n",
       "      <td>14260</td>\n",
       "      <td>8</td>\n",
       "      <td>5</td>\n",
       "      <td>2000</td>\n",
       "      <td>2000</td>\n",
       "      <td>350.0</td>\n",
       "      <td>655</td>\n",
       "      <td>0</td>\n",
       "      <td>...</td>\n",
       "      <td>0</td>\n",
       "      <td>0</td>\n",
       "      <td>0</td>\n",
       "      <td>0</td>\n",
       "      <td>1</td>\n",
       "      <td>0</td>\n",
       "      <td>0</td>\n",
       "      <td>0</td>\n",
       "      <td>1</td>\n",
       "      <td>0</td>\n",
       "    </tr>\n",
       "  </tbody>\n",
       "</table>\n",
       "<p>5 rows × 246 columns</p>\n",
       "</div>"
      ]
     },
     "execution_count": 4,
     "metadata": {},
     "output_type": "execute_result"
    }
   ],
   "execution_count": 4
  },
  {
   "metadata": {
    "ExecuteTime": {
     "end_time": "2025-06-01T00:08:22.494050Z",
     "start_time": "2025-06-01T00:08:22.195816Z"
    }
   },
   "cell_type": "code",
   "source": "dataset.describe()",
   "id": "74cc31e8b104b435",
   "outputs": [
    {
     "data": {
      "text/plain": [
       "        MSSubClass  LotFrontage        LotArea  OverallQual  OverallCond  \\\n",
       "count  1460.000000  1201.000000    1460.000000  1460.000000  1460.000000   \n",
       "mean     56.897260    70.049958   10516.828082     6.099315     5.575342   \n",
       "std      42.300571    24.284752    9981.264932     1.382997     1.112799   \n",
       "min      20.000000    21.000000    1300.000000     1.000000     1.000000   \n",
       "25%      20.000000    59.000000    7553.500000     5.000000     5.000000   \n",
       "50%      50.000000    69.000000    9478.500000     6.000000     5.000000   \n",
       "75%      70.000000    80.000000   11601.500000     7.000000     6.000000   \n",
       "max     190.000000   313.000000  215245.000000    10.000000     9.000000   \n",
       "\n",
       "         YearBuilt  YearRemodAdd   MasVnrArea   BsmtFinSF1   BsmtFinSF2  ...  \\\n",
       "count  1460.000000   1460.000000  1452.000000  1460.000000  1460.000000  ...   \n",
       "mean   1971.267808   1984.865753   103.685262   443.639726    46.549315  ...   \n",
       "std      30.202904     20.645407   181.066207   456.098091   161.319273  ...   \n",
       "min    1872.000000   1950.000000     0.000000     0.000000     0.000000  ...   \n",
       "25%    1954.000000   1967.000000     0.000000     0.000000     0.000000  ...   \n",
       "50%    1973.000000   1994.000000     0.000000   383.500000     0.000000  ...   \n",
       "75%    2000.000000   2004.000000   166.000000   712.250000     0.000000  ...   \n",
       "max    2010.000000   2010.000000  1600.000000  5644.000000  1474.000000  ...   \n",
       "\n",
       "       SaleType_ConLI  SaleType_ConLw  SaleType_New  SaleType_Oth  \\\n",
       "count     1460.000000     1460.000000   1460.000000   1460.000000   \n",
       "mean         0.003425        0.003425      0.083562      0.002055   \n",
       "std          0.058440        0.058440      0.276824      0.045299   \n",
       "min          0.000000        0.000000      0.000000      0.000000   \n",
       "25%          0.000000        0.000000      0.000000      0.000000   \n",
       "50%          0.000000        0.000000      0.000000      0.000000   \n",
       "75%          0.000000        0.000000      0.000000      0.000000   \n",
       "max          1.000000        1.000000      1.000000      1.000000   \n",
       "\n",
       "       SaleType_WD  SaleCondition_AdjLand  SaleCondition_Alloca  \\\n",
       "count  1460.000000            1460.000000           1460.000000   \n",
       "mean      0.867808               0.002740              0.008219   \n",
       "std       0.338815               0.052289              0.090317   \n",
       "min       0.000000               0.000000              0.000000   \n",
       "25%       1.000000               0.000000              0.000000   \n",
       "50%       1.000000               0.000000              0.000000   \n",
       "75%       1.000000               0.000000              0.000000   \n",
       "max       1.000000               1.000000              1.000000   \n",
       "\n",
       "       SaleCondition_Family  SaleCondition_Normal  SaleCondition_Partial  \n",
       "count           1460.000000           1460.000000            1460.000000  \n",
       "mean               0.013699              0.820548               0.085616  \n",
       "std                0.116277              0.383862               0.279893  \n",
       "min                0.000000              0.000000               0.000000  \n",
       "25%                0.000000              1.000000               0.000000  \n",
       "50%                0.000000              1.000000               0.000000  \n",
       "75%                0.000000              1.000000               0.000000  \n",
       "max                1.000000              1.000000               1.000000  \n",
       "\n",
       "[8 rows x 246 columns]"
      ],
      "text/html": [
       "<div>\n",
       "<style scoped>\n",
       "    .dataframe tbody tr th:only-of-type {\n",
       "        vertical-align: middle;\n",
       "    }\n",
       "\n",
       "    .dataframe tbody tr th {\n",
       "        vertical-align: top;\n",
       "    }\n",
       "\n",
       "    .dataframe thead th {\n",
       "        text-align: right;\n",
       "    }\n",
       "</style>\n",
       "<table border=\"1\" class=\"dataframe\">\n",
       "  <thead>\n",
       "    <tr style=\"text-align: right;\">\n",
       "      <th></th>\n",
       "      <th>MSSubClass</th>\n",
       "      <th>LotFrontage</th>\n",
       "      <th>LotArea</th>\n",
       "      <th>OverallQual</th>\n",
       "      <th>OverallCond</th>\n",
       "      <th>YearBuilt</th>\n",
       "      <th>YearRemodAdd</th>\n",
       "      <th>MasVnrArea</th>\n",
       "      <th>BsmtFinSF1</th>\n",
       "      <th>BsmtFinSF2</th>\n",
       "      <th>...</th>\n",
       "      <th>SaleType_ConLI</th>\n",
       "      <th>SaleType_ConLw</th>\n",
       "      <th>SaleType_New</th>\n",
       "      <th>SaleType_Oth</th>\n",
       "      <th>SaleType_WD</th>\n",
       "      <th>SaleCondition_AdjLand</th>\n",
       "      <th>SaleCondition_Alloca</th>\n",
       "      <th>SaleCondition_Family</th>\n",
       "      <th>SaleCondition_Normal</th>\n",
       "      <th>SaleCondition_Partial</th>\n",
       "    </tr>\n",
       "  </thead>\n",
       "  <tbody>\n",
       "    <tr>\n",
       "      <th>count</th>\n",
       "      <td>1460.000000</td>\n",
       "      <td>1201.000000</td>\n",
       "      <td>1460.000000</td>\n",
       "      <td>1460.000000</td>\n",
       "      <td>1460.000000</td>\n",
       "      <td>1460.000000</td>\n",
       "      <td>1460.000000</td>\n",
       "      <td>1452.000000</td>\n",
       "      <td>1460.000000</td>\n",
       "      <td>1460.000000</td>\n",
       "      <td>...</td>\n",
       "      <td>1460.000000</td>\n",
       "      <td>1460.000000</td>\n",
       "      <td>1460.000000</td>\n",
       "      <td>1460.000000</td>\n",
       "      <td>1460.000000</td>\n",
       "      <td>1460.000000</td>\n",
       "      <td>1460.000000</td>\n",
       "      <td>1460.000000</td>\n",
       "      <td>1460.000000</td>\n",
       "      <td>1460.000000</td>\n",
       "    </tr>\n",
       "    <tr>\n",
       "      <th>mean</th>\n",
       "      <td>56.897260</td>\n",
       "      <td>70.049958</td>\n",
       "      <td>10516.828082</td>\n",
       "      <td>6.099315</td>\n",
       "      <td>5.575342</td>\n",
       "      <td>1971.267808</td>\n",
       "      <td>1984.865753</td>\n",
       "      <td>103.685262</td>\n",
       "      <td>443.639726</td>\n",
       "      <td>46.549315</td>\n",
       "      <td>...</td>\n",
       "      <td>0.003425</td>\n",
       "      <td>0.003425</td>\n",
       "      <td>0.083562</td>\n",
       "      <td>0.002055</td>\n",
       "      <td>0.867808</td>\n",
       "      <td>0.002740</td>\n",
       "      <td>0.008219</td>\n",
       "      <td>0.013699</td>\n",
       "      <td>0.820548</td>\n",
       "      <td>0.085616</td>\n",
       "    </tr>\n",
       "    <tr>\n",
       "      <th>std</th>\n",
       "      <td>42.300571</td>\n",
       "      <td>24.284752</td>\n",
       "      <td>9981.264932</td>\n",
       "      <td>1.382997</td>\n",
       "      <td>1.112799</td>\n",
       "      <td>30.202904</td>\n",
       "      <td>20.645407</td>\n",
       "      <td>181.066207</td>\n",
       "      <td>456.098091</td>\n",
       "      <td>161.319273</td>\n",
       "      <td>...</td>\n",
       "      <td>0.058440</td>\n",
       "      <td>0.058440</td>\n",
       "      <td>0.276824</td>\n",
       "      <td>0.045299</td>\n",
       "      <td>0.338815</td>\n",
       "      <td>0.052289</td>\n",
       "      <td>0.090317</td>\n",
       "      <td>0.116277</td>\n",
       "      <td>0.383862</td>\n",
       "      <td>0.279893</td>\n",
       "    </tr>\n",
       "    <tr>\n",
       "      <th>min</th>\n",
       "      <td>20.000000</td>\n",
       "      <td>21.000000</td>\n",
       "      <td>1300.000000</td>\n",
       "      <td>1.000000</td>\n",
       "      <td>1.000000</td>\n",
       "      <td>1872.000000</td>\n",
       "      <td>1950.000000</td>\n",
       "      <td>0.000000</td>\n",
       "      <td>0.000000</td>\n",
       "      <td>0.000000</td>\n",
       "      <td>...</td>\n",
       "      <td>0.000000</td>\n",
       "      <td>0.000000</td>\n",
       "      <td>0.000000</td>\n",
       "      <td>0.000000</td>\n",
       "      <td>0.000000</td>\n",
       "      <td>0.000000</td>\n",
       "      <td>0.000000</td>\n",
       "      <td>0.000000</td>\n",
       "      <td>0.000000</td>\n",
       "      <td>0.000000</td>\n",
       "    </tr>\n",
       "    <tr>\n",
       "      <th>25%</th>\n",
       "      <td>20.000000</td>\n",
       "      <td>59.000000</td>\n",
       "      <td>7553.500000</td>\n",
       "      <td>5.000000</td>\n",
       "      <td>5.000000</td>\n",
       "      <td>1954.000000</td>\n",
       "      <td>1967.000000</td>\n",
       "      <td>0.000000</td>\n",
       "      <td>0.000000</td>\n",
       "      <td>0.000000</td>\n",
       "      <td>...</td>\n",
       "      <td>0.000000</td>\n",
       "      <td>0.000000</td>\n",
       "      <td>0.000000</td>\n",
       "      <td>0.000000</td>\n",
       "      <td>1.000000</td>\n",
       "      <td>0.000000</td>\n",
       "      <td>0.000000</td>\n",
       "      <td>0.000000</td>\n",
       "      <td>1.000000</td>\n",
       "      <td>0.000000</td>\n",
       "    </tr>\n",
       "    <tr>\n",
       "      <th>50%</th>\n",
       "      <td>50.000000</td>\n",
       "      <td>69.000000</td>\n",
       "      <td>9478.500000</td>\n",
       "      <td>6.000000</td>\n",
       "      <td>5.000000</td>\n",
       "      <td>1973.000000</td>\n",
       "      <td>1994.000000</td>\n",
       "      <td>0.000000</td>\n",
       "      <td>383.500000</td>\n",
       "      <td>0.000000</td>\n",
       "      <td>...</td>\n",
       "      <td>0.000000</td>\n",
       "      <td>0.000000</td>\n",
       "      <td>0.000000</td>\n",
       "      <td>0.000000</td>\n",
       "      <td>1.000000</td>\n",
       "      <td>0.000000</td>\n",
       "      <td>0.000000</td>\n",
       "      <td>0.000000</td>\n",
       "      <td>1.000000</td>\n",
       "      <td>0.000000</td>\n",
       "    </tr>\n",
       "    <tr>\n",
       "      <th>75%</th>\n",
       "      <td>70.000000</td>\n",
       "      <td>80.000000</td>\n",
       "      <td>11601.500000</td>\n",
       "      <td>7.000000</td>\n",
       "      <td>6.000000</td>\n",
       "      <td>2000.000000</td>\n",
       "      <td>2004.000000</td>\n",
       "      <td>166.000000</td>\n",
       "      <td>712.250000</td>\n",
       "      <td>0.000000</td>\n",
       "      <td>...</td>\n",
       "      <td>0.000000</td>\n",
       "      <td>0.000000</td>\n",
       "      <td>0.000000</td>\n",
       "      <td>0.000000</td>\n",
       "      <td>1.000000</td>\n",
       "      <td>0.000000</td>\n",
       "      <td>0.000000</td>\n",
       "      <td>0.000000</td>\n",
       "      <td>1.000000</td>\n",
       "      <td>0.000000</td>\n",
       "    </tr>\n",
       "    <tr>\n",
       "      <th>max</th>\n",
       "      <td>190.000000</td>\n",
       "      <td>313.000000</td>\n",
       "      <td>215245.000000</td>\n",
       "      <td>10.000000</td>\n",
       "      <td>9.000000</td>\n",
       "      <td>2010.000000</td>\n",
       "      <td>2010.000000</td>\n",
       "      <td>1600.000000</td>\n",
       "      <td>5644.000000</td>\n",
       "      <td>1474.000000</td>\n",
       "      <td>...</td>\n",
       "      <td>1.000000</td>\n",
       "      <td>1.000000</td>\n",
       "      <td>1.000000</td>\n",
       "      <td>1.000000</td>\n",
       "      <td>1.000000</td>\n",
       "      <td>1.000000</td>\n",
       "      <td>1.000000</td>\n",
       "      <td>1.000000</td>\n",
       "      <td>1.000000</td>\n",
       "      <td>1.000000</td>\n",
       "    </tr>\n",
       "  </tbody>\n",
       "</table>\n",
       "<p>8 rows × 246 columns</p>\n",
       "</div>"
      ]
     },
     "execution_count": 5,
     "metadata": {},
     "output_type": "execute_result"
    }
   ],
   "execution_count": 5
  },
  {
   "metadata": {
    "ExecuteTime": {
     "end_time": "2025-06-01T00:08:22.635381Z",
     "start_time": "2025-06-01T00:08:22.628089Z"
    }
   },
   "cell_type": "code",
   "source": [
    "# replace null values to 0\n",
    "dataset.replace(np.NaN,0,inplace=True)\n",
    "dataset.isnull().sum()"
   ],
   "id": "ca21393bd9810c7a",
   "outputs": [
    {
     "data": {
      "text/plain": [
       "MSSubClass               0\n",
       "LotFrontage              0\n",
       "LotArea                  0\n",
       "OverallQual              0\n",
       "OverallCond              0\n",
       "                        ..\n",
       "SaleCondition_AdjLand    0\n",
       "SaleCondition_Alloca     0\n",
       "SaleCondition_Family     0\n",
       "SaleCondition_Normal     0\n",
       "SaleCondition_Partial    0\n",
       "Length: 246, dtype: int64"
      ]
     },
     "execution_count": 6,
     "metadata": {},
     "output_type": "execute_result"
    }
   ],
   "execution_count": 6
  },
  {
   "metadata": {
    "ExecuteTime": {
     "end_time": "2025-06-01T00:08:22.848236Z",
     "start_time": "2025-06-01T00:08:22.706900Z"
    }
   },
   "cell_type": "code",
   "source": [
    "# initial model creation with all features to get a baseline R2 Score, MAE, RMSE, and MSE\n",
    "x = dataset.drop(\"SalePrice\", axis=1)\n",
    "y = dataset[\"SalePrice\"]\n",
    "x_train, x_test, y_train, y_test = train_test_split(x,y, test_size=0.2, random_state=18)\n",
    "\n",
    "model = LinearRegression()\n",
    "model.fit(x_train, y_train)\n",
    "\n",
    "y_pred = model.predict(x_test)"
   ],
   "id": "95d2337fcd7f203b",
   "outputs": [],
   "execution_count": 7
  },
  {
   "metadata": {
    "ExecuteTime": {
     "end_time": "2025-06-01T00:08:23.251984Z",
     "start_time": "2025-06-01T00:08:23.244912Z"
    }
   },
   "cell_type": "code",
   "source": [
    "print(\"R^2 Score:\", r2_score(y_test, y_pred))\n",
    "print(\"MAE:\", mean_absolute_error(y_test, y_pred))\n",
    "print(\"RMSE:\", np.sqrt(mean_squared_error(y_test, y_pred)))\n",
    "print(\"MSE:\", mean_squared_error(y_test, y_pred))"
   ],
   "id": "7577b3fd3d7b83c2",
   "outputs": [
    {
     "name": "stdout",
     "output_type": "stream",
     "text": [
      "R^2 Score: 0.8586917702734673\n",
      "MAE: 18026.71183032192\n",
      "RMSE: 30305.77363798688\n",
      "MSE: 918439915.7969005\n"
     ]
    }
   ],
   "execution_count": 8
  },
  {
   "metadata": {
    "ExecuteTime": {
     "end_time": "2025-06-01T00:08:24.037892Z",
     "start_time": "2025-06-01T00:08:24.013326Z"
    }
   },
   "cell_type": "code",
   "source": [
    "# reducing the variance threshold to get the highest R2 Score, MAE, RMSE, and MSE\n",
    "x_train_reduced, x_test_reduced, y_train_reduced, y_test_reduced = train_test_split(x, y, test_size=0.2, random_state=18)\n",
    "\n",
    "# initialize VarianceThreshold to remove useless features, in this case it removes features that have <= .01\n",
    "selector = VarianceThreshold(threshold=0.01)\n",
    "selector.fit(x_train_reduced)\n",
    "\n",
    "# get features that were returned from the variance selector\n",
    "# selector.get_support() returns a array of booleans, use loc to select the features \n",
    "x_train_reduced = x_train_reduced.loc[:, selector.get_support()]\n",
    "x_test_reduced = x_test_reduced.loc[:, selector.get_support()]\n",
    "\n",
    "# initialize linear regression model\n",
    "model_reduced = LinearRegression()\n",
    "model_reduced.fit(x_train_reduced, y_train_reduced)\n",
    "\n",
    "# predict outputs\n",
    "y_pred = model_reduced.predict(x_test_reduced)"
   ],
   "id": "79c7f6508cfcace7",
   "outputs": [],
   "execution_count": 9
  },
  {
   "metadata": {
    "ExecuteTime": {
     "end_time": "2025-06-01T00:08:24.134774Z",
     "start_time": "2025-06-01T00:08:24.128259Z"
    }
   },
   "cell_type": "code",
   "source": [
    "print(\"R^2 Score:\", r2_score(y_test_reduced, y_pred))\n",
    "print(\"MAE:\", mean_absolute_error(y_test_reduced, y_pred))\n",
    "print(\"RMSE:\", np.sqrt(mean_squared_error(y_test_reduced, y_pred)))\n",
    "print(\"MSE:\", mean_squared_error(y_test_reduced, y_pred))"
   ],
   "id": "6c41e0f8a3148221",
   "outputs": [
    {
     "name": "stdout",
     "output_type": "stream",
     "text": [
      "R^2 Score: 0.8712679913082154\n",
      "MAE: 19764.26348743131\n",
      "RMSE: 28925.76943430883\n",
      "MSE: 836700137.366795\n"
     ]
    }
   ],
   "execution_count": 10
  },
  {
   "metadata": {
    "ExecuteTime": {
     "end_time": "2025-06-01T00:08:26.468429Z",
     "start_time": "2025-06-01T00:08:24.175783Z"
    }
   },
   "cell_type": "code",
   "source": [
    "x_train_reduced, x_test_reduced, y_train_reduced, y_test_reduced = train_test_split(x, y, test_size=0.2, random_state=42)\n",
    "\n",
    "# initialize random forest regressor\n",
    "model_reduced = RandomForestRegressor()\n",
    "model_reduced.fit(x_train_reduced, y_train_reduced)\n",
    "\n",
    "# predict outputs\n",
    "y_pred = model_reduced.predict(x_test_reduced)"
   ],
   "id": "28d263b0c97eb9d0",
   "outputs": [],
   "execution_count": 11
  },
  {
   "metadata": {
    "ExecuteTime": {
     "end_time": "2025-06-01T00:08:26.514472Z",
     "start_time": "2025-06-01T00:08:26.508466Z"
    }
   },
   "cell_type": "code",
   "source": [
    "print(\"R^2 Score:\", r2_score(y_test_reduced, y_pred))\n",
    "print(\"MAE:\", mean_absolute_error(y_test_reduced, y_pred))\n",
    "print(\"RMSE:\", np.sqrt(mean_squared_error(y_test_reduced, y_pred)))\n",
    "print(\"MSE:\", mean_squared_error(y_test_reduced, y_pred))"
   ],
   "id": "3b11425ad24237db",
   "outputs": [
    {
     "name": "stdout",
     "output_type": "stream",
     "text": [
      "R^2 Score: 0.8831407526623769\n",
      "MAE: 17924.872020547944\n",
      "RMSE: 29939.08060388517\n",
      "MSE: 896348547.4059331\n"
     ]
    }
   ],
   "execution_count": 12
  },
  {
   "metadata": {
    "ExecuteTime": {
     "end_time": "2025-06-01T00:08:28.700940Z",
     "start_time": "2025-06-01T00:08:26.589090Z"
    }
   },
   "cell_type": "code",
   "source": [
    "x_train_reduced, x_test_reduced, y_train_reduced, y_test_reduced = train_test_split(x, y, test_size=0.2, random_state=42)\n",
    "\n",
    "selector = VarianceThreshold(threshold=0.01)\n",
    "selector.fit(x_train_reduced)\n",
    "\n",
    "x_train_reduced = x_train_reduced.loc[:, selector.get_support()]\n",
    "x_test_reduced = x_test_reduced.loc[:, selector.get_support()]\n",
    "# repeat the same steps as above instead of a linear regression model, initialize a random forest regressor\n",
    "\n",
    "# initialize random forest regressor\n",
    "model_reduced = RandomForestRegressor()\n",
    "model_reduced.fit(x_train_reduced, y_train_reduced)\n",
    "\n",
    "# predict outputs\n",
    "y_pred = model_reduced.predict(x_test_reduced)"
   ],
   "id": "6ae8df91c8bba8ac",
   "outputs": [],
   "execution_count": 13
  },
  {
   "metadata": {
    "ExecuteTime": {
     "end_time": "2025-06-01T00:08:28.722453Z",
     "start_time": "2025-06-01T00:08:28.715459Z"
    }
   },
   "cell_type": "code",
   "source": [
    "print(\"R^2 Score:\", r2_score(y_test_reduced, y_pred))\n",
    "print(\"MAE:\", mean_absolute_error(y_test_reduced, y_pred))\n",
    "print(\"RMSE:\", np.sqrt(mean_squared_error(y_test_reduced, y_pred)))\n",
    "print(\"MSE:\", mean_squared_error(y_test_reduced, y_pred))"
   ],
   "id": "3891e903d00af921",
   "outputs": [
    {
     "name": "stdout",
     "output_type": "stream",
     "text": [
      "R^2 Score: 0.889936368701407\n",
      "MAE: 17627.670616438358\n",
      "RMSE: 29055.532271974964\n",
      "MSE: 844223955.6077787\n"
     ]
    }
   ],
   "execution_count": 14
  },
  {
   "metadata": {
    "ExecuteTime": {
     "end_time": "2025-06-01T00:09:24.964500Z",
     "start_time": "2025-06-01T00:08:28.760530Z"
    }
   },
   "cell_type": "code",
   "source": [
    "# test to see if we can achieve better results \n",
    "x_train_grid, x_test_grid, y_train_grid, y_test_grid = train_test_split(x, y, test_size=0.2, random_state=42)\n",
    "\n",
    "# initialize hyperparameters for gridsearch \n",
    "# to see if we get better results \n",
    "param_grid = {\n",
    "    'n_estimators': [100, 200],\n",
    "    'max_depth': [None, 10, 20],\n",
    "    'min_samples_split': [2, 5],\n",
    "    'min_samples_leaf': [1, 2],\n",
    "}\n",
    "\n",
    "# Initialize random forest regressor \n",
    "rf = RandomForestRegressor(random_state=18)\n",
    "\n",
    "# gridsearch with configured hyperparameters\n",
    "# and random forest regressor \n",
    "grid_search = GridSearchCV(\n",
    "    estimator=rf,\n",
    "    param_grid=param_grid,\n",
    "    cv=10,\n",
    "    scoring='r2',\n",
    "    n_jobs=-1,\n",
    "    verbose=2\n",
    ")\n",
    "\n",
    "grid_search.fit(x_train_grid, y_train_grid)\n",
    "print(\"Best R^2 score:\", grid_search.best_score_)\n",
    "\n",
    "# capture the best model based on R2 score \n",
    "best_model = grid_search.best_estimator_\n",
    "y_pred = best_model.predict(x_test_grid)\n",
    "y_pred = best_model.predict(x_test_grid)"
   ],
   "id": "26c02773861678ed",
   "outputs": [
    {
     "name": "stdout",
     "output_type": "stream",
     "text": [
      "Fitting 10 folds for each of 24 candidates, totalling 240 fits\n",
      "Best R^2 score: 0.8426957203185875\n"
     ]
    }
   ],
   "execution_count": 15
  },
  {
   "metadata": {
    "ExecuteTime": {
     "end_time": "2025-06-01T00:09:25.026643Z",
     "start_time": "2025-06-01T00:09:25.018607Z"
    }
   },
   "cell_type": "code",
   "source": [
    "print(\"R^2 Score:\", r2_score(y_test_grid, y_pred))\n",
    "print(\"MAE:\", mean_absolute_error(y_test_grid, y_pred))\n",
    "print(\"RMSE:\", np.sqrt(mean_squared_error(y_test_grid, y_pred)))\n",
    "print(\"MSE:\", mean_squared_error(y_test_grid, y_pred))"
   ],
   "id": "ae8c186b83b2690a",
   "outputs": [
    {
     "name": "stdout",
     "output_type": "stream",
     "text": [
      "R^2 Score: 0.8934886879179356\n",
      "MAE: 17475.022374357566\n",
      "RMSE: 28582.800919870428\n",
      "MSE: 816976508.4249458\n"
     ]
    }
   ],
   "execution_count": 16
  },
  {
   "metadata": {
    "ExecuteTime": {
     "end_time": "2025-06-01T01:25:21.295003Z",
     "start_time": "2025-06-01T01:25:21.291033Z"
    }
   },
   "cell_type": "code",
   "source": "print(f\"Best Parameters: {grid_search.best_params_}\")",
   "id": "79519f87080b9692",
   "outputs": [
    {
     "name": "stdout",
     "output_type": "stream",
     "text": [
      "Best Parameters: {'max_depth': None, 'min_samples_leaf': 2, 'min_samples_split': 2, 'n_estimators': 200}\n"
     ]
    }
   ],
   "execution_count": 18
  },
  {
   "metadata": {
    "ExecuteTime": {
     "end_time": "2025-06-01T00:09:25.111713Z",
     "start_time": "2025-06-01T00:09:25.106789Z"
    }
   },
   "cell_type": "code",
   "source": [
    "\"\"\"\n",
    "Linear Regression \n",
    "R^2 Score: 0.8586917702734673\n",
    "MAE: 18026.71183032192\n",
    "RMSE: 30305.77363798688\n",
    "MSE: 918439915.7969005\n",
    "\n",
    "Linear Regression w/VarianceThreshold\n",
    "R^2 Score: 0.8712679913082154\n",
    "MAE: 19764.26348743131\n",
    "RMSE: 28925.76943430883\n",
    "MSE: 836700137.366795\n",
    "\n",
    "Random Forest\n",
    "R^2 Score: 0.8831407526623769\n",
    "MAE: 17924.872020547944\n",
    "RMSE: 29939.08060388517\n",
    "MSE: 896348547.4059331\n",
    "\n",
    "Random Forest w/VarianceThreshold\n",
    "R^2 Score: 0.889936368701407\n",
    "MAE: 17627.670616438358\n",
    "RMSE: 29055.532271974964\n",
    "MSE: 844223955.6077787\n",
    "\n",
    "Gridsearch Random Forest\n",
    "R^2 Score: 0.8934886879179356   - Best\n",
    "MAE: 17475.022374357566         - Best\n",
    "RMSE: 28582.800919870428        - Best\n",
    "MSE: 816976508.4249458          - Best\n",
    "\"\"\""
   ],
   "id": "d0ebbf0c0fcc6b85",
   "outputs": [
    {
     "data": {
      "text/plain": [
       "'\\nLinear Regression \\nR^2 Score: 0.8586917702734673\\nMAE: 18026.71183032192\\nRMSE: 30305.77363798688\\nMSE: 918439915.7969005\\n\\nLinear Regression w/VarianceThreshold\\nR^2 Score: 0.8712679913082154\\nMAE: 19764.26348743131\\nRMSE: 28925.76943430883\\nMSE: 836700137.366795\\n\\nRandom Forest\\nR^2 Score: 0.8912392195434032\\nMAE: 17685.726506849318\\nRMSE: 28883.051512095455\\nMSE: 834230664.6503596\\n\\nRandom Forest w/VarianceThreshold\\nR^2 Score: 0.895934440597323    - Best\\nMAE: 17491.42417808219\\nRMSE: 28252.730621161947        - Best\\nMSE: 798216787.551942           - Best\\n\\nGridsearch Random Forest\\nR^2 Score: 0.8934886879179356\\nMAE: 17475.022374357566         - Best\\nRMSE: 28582.800919870428\\nMSE: 816976508.4249458\\n'"
      ]
     },
     "execution_count": 17,
     "metadata": {},
     "output_type": "execute_result"
    }
   ],
   "execution_count": 17
  }
 ],
 "metadata": {
  "kernelspec": {
   "display_name": "Python 3",
   "language": "python",
   "name": "python3"
  },
  "language_info": {
   "codemirror_mode": {
    "name": "ipython",
    "version": 2
   },
   "file_extension": ".py",
   "mimetype": "text/x-python",
   "name": "python",
   "nbconvert_exporter": "python",
   "pygments_lexer": "ipython2",
   "version": "2.7.6"
  }
 },
 "nbformat": 4,
 "nbformat_minor": 5
}
